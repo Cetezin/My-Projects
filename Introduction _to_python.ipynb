{
 "cells": [
  {
   "cell_type": "code",
   "execution_count": null,
   "id": "f43ea5ce",
   "metadata": {},
   "outputs": [],
   "source": [
    "1. variables and data types.\n",
    "2. conditional and string methods.\n",
    "3. list and list methods.\n",
    "4. slicing and indexing.\n",
    "5. loops (forloops, while).\n",
    "6. list comprehenshion and matrixes.\n",
    "7. Reading, writing of files and functions.\n",
    "8. Dictionaries.\n",
    "9. classes and objects.\n",
    "10. Time and complexity analysis.\n",
    "11. Introduction to Series and Dataframes.\n",
    "12. Python Data Manipulation libraries (Pandas and rumpy).\n",
    "13. Reading data in python (csv, xlxs, json, txt).\n",
    "14. Data wrangling in python and dat joining (concat, merge, append).\n",
    "15. Explanatory data analysis in python and Statistical concepts.\n",
    "16. Answering business questions with python.\n",
    "17. Data visualisation (Seaborn and matplotlib).\n",
    "18. Data reporting.\n",
    "\n",
    "Bonus\n",
    "19. Introduction to business modelling using regressiona and time series forcasting.\n",
    "20. Intoduction to machine learning using supervised and unsupervised algorithms.\n",
    "21. Data strategy, data product management and Data governance."
   ]
  },
  {
   "cell_type": "code",
   "execution_count": null,
   "id": "f4deac87",
   "metadata": {},
   "outputs": [],
   "source": [
    "a = float(input(\"enter number 1: \"))"
   ]
  },
  {
   "cell_type": "code",
   "execution_count": 1,
   "id": "895ae71b",
   "metadata": {},
   "outputs": [
    {
     "name": "stdout",
     "output_type": "stream",
     "text": [
      "hello\n",
      "123s\n"
     ]
    }
   ],
   "source": [
    "print(\"hello\")\n",
    "print(\"123\" + \"s\")"
   ]
  },
  {
   "cell_type": "code",
   "execution_count": 3,
   "id": "91e66f35",
   "metadata": {},
   "outputs": [
    {
     "data": {
      "text/plain": [
       "float"
      ]
     },
     "execution_count": 3,
     "metadata": {},
     "output_type": "execute_result"
    }
   ],
   "source": [
    "a = 345.5\n",
    "type(a)"
   ]
  },
  {
   "cell_type": "code",
   "execution_count": 30,
   "id": "ad09fa3c",
   "metadata": {},
   "outputs": [
    {
     "name": "stdout",
     "output_type": "stream",
     "text": [
      "toyin is 19 years\n"
     ]
    }
   ],
   "source": [
    "a = \"toyin\"\n",
    "b = 19\n",
    "###format string methods\n",
    "print(f\"{a} is {b} years\")"
   ]
  },
  {
   "cell_type": "code",
   "execution_count": 13,
   "id": "83e2e36b",
   "metadata": {},
   "outputs": [
    {
     "name": "stdout",
     "output_type": "stream",
     "text": [
      "enter message: BRead\n",
      "buy\n"
     ]
    }
   ],
   "source": [
    "get_me = input('enter message: ').lower()\n",
    "if get_me == \"tomatoes\":\n",
    "    print(\"buy\")\n",
    "elif get_me == \"lemon\":\n",
    "    print(\"buy\")\n",
    "elif get_me == \"bread\":\n",
    "    print(\"buy\")\n",
    "else:\n",
    "    print(\"couldn't find any\")"
   ]
  },
  {
   "cell_type": "code",
   "execution_count": null,
   "id": "d2fafeb8",
   "metadata": {},
   "outputs": [],
   "source": [
    "tem"
   ]
  },
  {
   "cell_type": "markdown",
   "id": "68212363",
   "metadata": {},
   "source": [
    "c = 5/9 * (f + 32)\n",
    "f = 9/5 * (c - 32)"
   ]
  },
  {
   "cell_type": "code",
   "execution_count": 18,
   "id": "a6ecfd0c",
   "metadata": {},
   "outputs": [
    {
     "name": "stdout",
     "output_type": "stream",
     "text": [
      "enter temperature input value: 200\n",
      "enter unit f/c: c\n",
      "the temperature value from 200.0c is 302.4fahrenheit\n"
     ]
    }
   ],
   "source": [
    "temp_value = float(input(\"enter temperature input value: \"))\n",
    "unit = input(\"enter unit f/c: \").lower()\n",
    "if unit == \"f\":\n",
    "    celcius = round(5/9 * (temp_value + 32), 3)\n",
    "    print(f\"the temperature value from {temp_value}f is {celcius}celcuis\")\n",
    "    \n",
    "elif unit == \"c\":\n",
    "    fahr = round(9/5 * (temp_value - 32), 3)\n",
    "    print(f\"the temperature value from {temp_value}c is {fahr}fahrenheit\")\n",
    "\n",
    "else:\n",
    "    print(\"Inut not understood!!!!!\")"
   ]
  },
  {
   "cell_type": "code",
   "execution_count": 111,
   "id": "10fe74d1",
   "metadata": {},
   "outputs": [
    {
     "name": "stdout",
     "output_type": "stream",
     "text": [
      "Enter substring values: h\n",
      "ia adams\n"
     ]
    }
   ],
   "source": [
    "value = \"cynthia adams\"\n",
    "sub_string = input('Enter substring values: ')\n",
    "k = value.index(sub_string)\n",
    "right_values = value[k+1: ]\n",
    "print(right_values)"
   ]
  },
  {
   "cell_type": "code",
   "execution_count": 20,
   "id": "109f6418",
   "metadata": {},
   "outputs": [
    {
     "name": "stdout",
     "output_type": "stream",
     "text": [
      "Enter sub string values: h\n",
      "thia adams\n"
     ]
    }
   ],
   "source": [
    "value = \"cynthia adams\"\n",
    "sub_string = input('Enter sub string values: ')\n",
    "k = value.index(sub_string)\n",
    "right_values = value[k-1: ]\n",
    "print(right_values)"
   ]
  },
  {
   "cell_type": "code",
   "execution_count": 21,
   "id": "1218d0fb",
   "metadata": {},
   "outputs": [
    {
     "name": "stdout",
     "output_type": "stream",
     "text": [
      "Enter substring values: h\n",
      "cynth\n"
     ]
    }
   ],
   "source": [
    "value = \"cynthia adams\"\n",
    "sub_string = input('Enter substring values: ')\n",
    "k = value.index(sub_string)\n",
    "right_values = value[ :k+1]\n",
    "print(right_values)"
   ]
  },
  {
   "cell_type": "code",
   "execution_count": 12,
   "id": "5042655f",
   "metadata": {},
   "outputs": [
    {
     "name": "stdout",
     "output_type": "stream",
     "text": [
      "Enter substring values: a\n",
      "cynth\n"
     ]
    }
   ],
   "source": [
    "value = \"cynthia adams\"\n",
    "sub_string = input('Enter substring values: ')\n",
    "k = value.index(sub_string)\n",
    "left_values = value[ :k-1]\n",
    "print(left_values)"
   ]
  },
  {
   "cell_type": "code",
   "execution_count": 24,
   "id": "bb353e33",
   "metadata": {},
   "outputs": [
    {
     "data": {
      "text/plain": [
       "6"
      ]
     },
     "execution_count": 24,
     "metadata": {},
     "output_type": "execute_result"
    }
   ],
   "source": [
    "n = \"tobechukwuigia\"\n",
    "n.index(\"u\")"
   ]
  },
  {
   "cell_type": "code",
   "execution_count": null,
   "id": "b1135057",
   "metadata": {},
   "outputs": [],
   "source": [
    "sentence = input(\"Enter a sentence\")\n",
    "word = input(\"Enter a word\")\n",
    "words = sentence.split(' ')\n",
    "positions "
   ]
  },
  {
   "cell_type": "code",
   "execution_count": 9,
   "id": "7d60eb9d",
   "metadata": {},
   "outputs": [
    {
     "data": {
      "text/plain": [
       "6"
      ]
     },
     "execution_count": 9,
     "metadata": {},
     "output_type": "execute_result"
    }
   ],
   "source": [
    "n = \"tobechukwuigia\"\n",
    "n.index(\"u\")"
   ]
  },
  {
   "cell_type": "code",
   "execution_count": 2,
   "id": "f8ae6a90",
   "metadata": {},
   "outputs": [
    {
     "data": {
      "text/plain": [
       "9"
      ]
     },
     "execution_count": 2,
     "metadata": {},
     "output_type": "execute_result"
    }
   ],
   "source": [
    "n = \"tobechukwuigia\"\n",
    "n.index(\"u\",9)"
   ]
  },
  {
   "cell_type": "code",
   "execution_count": 3,
   "id": "13a0833b",
   "metadata": {},
   "outputs": [
    {
     "name": "stdout",
     "output_type": "stream",
     "text": [
      "[1, 3, 5]\n"
     ]
    }
   ],
   "source": [
    "programming_languages = [\"JavaScript\",\"Python\",\"Java\",\"Python\",\"C++\",\"Python\"]\n",
    "\n",
    "python_indices  = [index for (index, item) in enumerate(programming_languages) if item == \"Python\"]\n",
    "\n",
    "print(python_indices)\n",
    "\n",
    "#[1, 3, 5]"
   ]
  },
  {
   "cell_type": "code",
   "execution_count": 11,
   "id": "247944fa",
   "metadata": {},
   "outputs": [
    {
     "name": "stdout",
     "output_type": "stream",
     "text": [
      "[6, 9]\n"
     ]
    }
   ],
   "source": [
    "n = \"tobechukwu\"\n",
    "p = [index for (index, item) in enumerate(n) if item == \"u\"]\n",
    "print(p)"
   ]
  },
  {
   "cell_type": "code",
   "execution_count": 13,
   "id": "f5ba9055",
   "metadata": {},
   "outputs": [
    {
     "data": {
      "text/plain": [
       "'j'"
      ]
     },
     "execution_count": 13,
     "metadata": {},
     "output_type": "execute_result"
    }
   ],
   "source": [
    "h = \"jakeson/abiba\"\n",
    "h[0]"
   ]
  },
  {
   "cell_type": "code",
   "execution_count": 14,
   "id": "86f1df3c",
   "metadata": {},
   "outputs": [
    {
     "data": {
      "text/plain": [
       "'tope adamu'"
      ]
     },
     "execution_count": 14,
     "metadata": {},
     "output_type": "execute_result"
    }
   ],
   "source": [
    "k = [\"tope adamu\", \"kate milla\", \"femi ore\"]\n",
    "k[0]"
   ]
  },
  {
   "cell_type": "code",
   "execution_count": 113,
   "id": "0145711f",
   "metadata": {},
   "outputs": [
    {
     "ename": "TypeError",
     "evalue": "'int' object is not subscriptable",
     "output_type": "error",
     "traceback": [
      "\u001b[1;31m---------------------------------------------------------------------------\u001b[0m",
      "\u001b[1;31mTypeError\u001b[0m                                 Traceback (most recent call last)",
      "\u001b[1;32m~\\AppData\\Local\\Temp/ipykernel_9312/1930050497.py\u001b[0m in \u001b[0;36m<module>\u001b[1;34m\u001b[0m\n\u001b[1;32m----> 1\u001b[1;33m \u001b[0mk\u001b[0m\u001b[1;33m[\u001b[0m\u001b[1;36m0\u001b[0m\u001b[1;33m]\u001b[0m\u001b[1;33m.\u001b[0m\u001b[0msplit\u001b[0m\u001b[1;33m(\u001b[0m\u001b[1;33m)\u001b[0m\u001b[1;33m\u001b[0m\u001b[1;33m\u001b[0m\u001b[0m\n\u001b[0m",
      "\u001b[1;31mTypeError\u001b[0m: 'int' object is not subscriptable"
     ]
    }
   ],
   "source": [
    "k[0].split()"
   ]
  },
  {
   "cell_type": "code",
   "execution_count": 16,
   "id": "bed8b8fb",
   "metadata": {},
   "outputs": [
    {
     "data": {
      "text/plain": [
       "['jakeson/abiba']"
      ]
     },
     "execution_count": 16,
     "metadata": {},
     "output_type": "execute_result"
    }
   ],
   "source": [
    "h.split()"
   ]
  },
  {
   "cell_type": "code",
   "execution_count": 18,
   "id": "045c1369",
   "metadata": {},
   "outputs": [
    {
     "data": {
      "text/plain": [
       "['jakeson', 'abiba']"
      ]
     },
     "execution_count": 18,
     "metadata": {},
     "output_type": "execute_result"
    }
   ],
   "source": [
    "h.split(\"/\")"
   ]
  },
  {
   "cell_type": "code",
   "execution_count": 22,
   "id": "f01ea373",
   "metadata": {},
   "outputs": [
    {
     "name": "stdout",
     "output_type": "stream",
     "text": [
      "+2348251422525\n"
     ]
    }
   ],
   "source": [
    "phone_number = \"+234-825-142-2525\"\n",
    "b = phone_number.split(\"-\")\n",
    "d = ''.join(b)\n",
    "print(d)"
   ]
  },
  {
   "cell_type": "code",
   "execution_count": 23,
   "id": "345e1f1a",
   "metadata": {},
   "outputs": [],
   "source": [
    "### split is a string method\n",
    "### join method is an array or list method"
   ]
  },
  {
   "cell_type": "code",
   "execution_count": 25,
   "id": "b3c19e7a",
   "metadata": {},
   "outputs": [
    {
     "name": "stdout",
     "output_type": "stream",
     "text": [
      "0\n",
      "1\n",
      "2\n",
      "3\n",
      "4\n",
      "5\n",
      "6\n",
      "7\n",
      "8\n",
      "9\n"
     ]
    }
   ],
   "source": [
    "for i in range(0, 10):\n",
    "    print(i)"
   ]
  },
  {
   "cell_type": "code",
   "execution_count": 26,
   "id": "aedfe819",
   "metadata": {},
   "outputs": [
    {
     "name": "stdout",
     "output_type": "stream",
     "text": [
      "10\n",
      "15\n",
      "21\n",
      "30\n",
      "6\n"
     ]
    }
   ],
   "source": [
    "a = [10, 15, 21, 30, 6]\n",
    "for i in a:\n",
    "    print(i)"
   ]
  },
  {
   "cell_type": "code",
   "execution_count": 27,
   "id": "c6eb21e6",
   "metadata": {},
   "outputs": [
    {
     "data": {
      "text/plain": [
       "['tope', 'adamu']"
      ]
     },
     "execution_count": 27,
     "metadata": {},
     "output_type": "execute_result"
    }
   ],
   "source": [
    "k[0].split()"
   ]
  },
  {
   "cell_type": "code",
   "execution_count": 28,
   "id": "cf0888e2",
   "metadata": {},
   "outputs": [
    {
     "name": "stdout",
     "output_type": "stream",
     "text": [
      "tope adamu\n",
      "kate milla\n",
      "femi ore\n"
     ]
    }
   ],
   "source": [
    "for n in k:\n",
    "    print(n)"
   ]
  },
  {
   "cell_type": "code",
   "execution_count": 29,
   "id": "6352f2a9",
   "metadata": {},
   "outputs": [
    {
     "data": {
      "text/plain": [
       "list"
      ]
     },
     "execution_count": 29,
     "metadata": {},
     "output_type": "execute_result"
    }
   ],
   "source": [
    "type(k)"
   ]
  },
  {
   "cell_type": "code",
   "execution_count": 112,
   "id": "0427893c",
   "metadata": {},
   "outputs": [
    {
     "ename": "TypeError",
     "evalue": "'int' object is not iterable",
     "output_type": "error",
     "traceback": [
      "\u001b[1;31m---------------------------------------------------------------------------\u001b[0m",
      "\u001b[1;31mTypeError\u001b[0m                                 Traceback (most recent call last)",
      "\u001b[1;32m~\\AppData\\Local\\Temp/ipykernel_9312/2937734014.py\u001b[0m in \u001b[0;36m<module>\u001b[1;34m\u001b[0m\n\u001b[0;32m      1\u001b[0m \u001b[0mfirst_name\u001b[0m \u001b[1;33m=\u001b[0m \u001b[1;33m[\u001b[0m\u001b[1;33m]\u001b[0m\u001b[1;33m\u001b[0m\u001b[1;33m\u001b[0m\u001b[0m\n\u001b[0;32m      2\u001b[0m \u001b[0msecond_name\u001b[0m \u001b[1;33m=\u001b[0m \u001b[1;33m[\u001b[0m\u001b[1;33m]\u001b[0m\u001b[1;33m\u001b[0m\u001b[1;33m\u001b[0m\u001b[0m\n\u001b[1;32m----> 3\u001b[1;33m \u001b[1;32mfor\u001b[0m \u001b[0mn\u001b[0m \u001b[1;32min\u001b[0m \u001b[0mk\u001b[0m\u001b[1;33m:\u001b[0m\u001b[1;33m\u001b[0m\u001b[1;33m\u001b[0m\u001b[0m\n\u001b[0m\u001b[0;32m      4\u001b[0m     \u001b[0mb\u001b[0m \u001b[1;33m=\u001b[0m \u001b[0mn\u001b[0m\u001b[1;33m.\u001b[0m\u001b[0msplit\u001b[0m\u001b[1;33m(\u001b[0m\u001b[1;33m)\u001b[0m\u001b[1;33m[\u001b[0m\u001b[1;36m0\u001b[0m\u001b[1;33m]\u001b[0m\u001b[1;33m[\u001b[0m\u001b[1;36m0\u001b[0m\u001b[1;33m]\u001b[0m\u001b[1;33m.\u001b[0m\u001b[0mupper\u001b[0m\u001b[1;33m(\u001b[0m\u001b[1;33m)\u001b[0m \u001b[1;33m+\u001b[0m \u001b[0mn\u001b[0m\u001b[1;33m.\u001b[0m\u001b[0msplit\u001b[0m\u001b[1;33m(\u001b[0m\u001b[1;33m)\u001b[0m\u001b[1;33m[\u001b[0m\u001b[1;36m0\u001b[0m\u001b[1;33m]\u001b[0m\u001b[1;33m[\u001b[0m\u001b[1;36m1\u001b[0m\u001b[1;33m:\u001b[0m\u001b[1;33m]\u001b[0m\u001b[1;33m\u001b[0m\u001b[1;33m\u001b[0m\u001b[0m\n\u001b[0;32m      5\u001b[0m     \u001b[0md\u001b[0m \u001b[1;33m=\u001b[0m \u001b[0mn\u001b[0m\u001b[1;33m.\u001b[0m\u001b[0msplit\u001b[0m\u001b[1;33m(\u001b[0m\u001b[1;33m)\u001b[0m\u001b[1;33m[\u001b[0m\u001b[1;36m1\u001b[0m\u001b[1;33m]\u001b[0m\u001b[1;33m[\u001b[0m\u001b[1;36m0\u001b[0m\u001b[1;33m]\u001b[0m\u001b[1;33m.\u001b[0m\u001b[0mupper\u001b[0m\u001b[1;33m(\u001b[0m\u001b[1;33m)\u001b[0m \u001b[1;33m+\u001b[0m \u001b[0mn\u001b[0m\u001b[1;33m.\u001b[0m\u001b[0msplit\u001b[0m\u001b[1;33m(\u001b[0m\u001b[1;33m)\u001b[0m\u001b[1;33m[\u001b[0m\u001b[1;36m1\u001b[0m\u001b[1;33m]\u001b[0m\u001b[1;33m[\u001b[0m\u001b[1;36m1\u001b[0m\u001b[1;33m:\u001b[0m\u001b[1;33m]\u001b[0m\u001b[1;33m\u001b[0m\u001b[1;33m\u001b[0m\u001b[0m\n",
      "\u001b[1;31mTypeError\u001b[0m: 'int' object is not iterable"
     ]
    }
   ],
   "source": [
    "first_name = []\n",
    "second_name = []\n",
    "for n in k:\n",
    "    b = n.split()[0][0].upper() + n.split()[0][1:]\n",
    "    d = n.split()[1][0].upper() + n.split()[1][1:]\n",
    "    first_name.append(b)\n",
    "    second_name.append(d)\n",
    "print(first_name)\n",
    "print(second_name)"
   ]
  },
  {
   "cell_type": "code",
   "execution_count": 31,
   "id": "54224e8a",
   "metadata": {},
   "outputs": [
    {
     "name": "stdout",
     "output_type": "stream",
     "text": [
      "[1, 5, 10, ['lem', 'fin', 'tan']]\n"
     ]
    }
   ],
   "source": [
    "t = [\"lem\", \"fin\", \"tan\"]\n",
    "array_list = [1, 5, 10]\n",
    "array_list.append(t)\n",
    "print(array_list)"
   ]
  },
  {
   "cell_type": "code",
   "execution_count": 32,
   "id": "29c06535",
   "metadata": {},
   "outputs": [
    {
     "name": "stdout",
     "output_type": "stream",
     "text": [
      "[1, 5, 10, 1, 1, 1]\n"
     ]
    }
   ],
   "source": [
    "t = [\"lem\", \"fin\", \"tan\"]\n",
    "array_list = [1, 5, 10]\n",
    "for i in t:\n",
    "    array_list.append(1)\n",
    "print(array_list)"
   ]
  },
  {
   "cell_type": "code",
   "execution_count": 33,
   "id": "8ae3551f",
   "metadata": {},
   "outputs": [
    {
     "name": "stdout",
     "output_type": "stream",
     "text": [
      "84\n"
     ]
    }
   ],
   "source": [
    "array_number = [10, 15, 21, 30, 8]\n",
    "add_me = 0\n",
    "\n",
    "for i in array_number:\n",
    "    add_me = i + add_me\n",
    "print(add_me)"
   ]
  },
  {
   "cell_type": "code",
   "execution_count": 35,
   "id": "0ed97752",
   "metadata": {},
   "outputs": [
    {
     "name": "stdout",
     "output_type": "stream",
     "text": [
      "<class 'bool'>\n"
     ]
    }
   ],
   "source": [
    "a  = False\n",
    "print(type(a))"
   ]
  },
  {
   "cell_type": "code",
   "execution_count": 51,
   "id": "f1ab4078",
   "metadata": {},
   "outputs": [],
   "source": [
    "a = []\n",
    "list_array = [True, False, \"meka\", \"owen\", 19.5, 88, 4.12, 22]\n",
    "for i in list_array:\n",
    "    if type(i) == float:\n",
    "       print(i)     "
   ]
  },
  {
   "cell_type": "code",
   "execution_count": 47,
   "id": "c6e4044d",
   "metadata": {},
   "outputs": [
    {
     "name": "stdout",
     "output_type": "stream",
     "text": [
      "[1, 2, 3, 4, 5, 6, 7, 8, 9, 10, 11, 12, 13, 14, 15, 16, 17, 18, 19, 20, 21, 22, 23, 24, 25, 26, 27, 28, 29, 30, 31, 32, 33, 34, 35, 36, 37, 38]\n"
     ]
    }
   ],
   "source": [
    "a = [i for i in range(1, 39)]\n",
    "print(a)"
   ]
  },
  {
   "cell_type": "code",
   "execution_count": 119,
   "id": "44cea590",
   "metadata": {},
   "outputs": [
    {
     "name": "stdout",
     "output_type": "stream",
     "text": [
      "[True, False]\n",
      "[19.5, 4.12]\n",
      "[88, 22]\n",
      "['meka', 'owen']\n"
     ]
    }
   ],
   "source": [
    "booleans = []\n",
    "strings = []\n",
    "integers = []\n",
    "floats = []\n",
    "\n",
    "list_array = [True, False, \"meka\", \"owen\", 19.5, 88, 4.12, 22]\n",
    "for i in list_array:\n",
    "    if type(i) == float:\n",
    "        floats.append(i) \n",
    "        \n",
    "    if type(i) == bool:\n",
    "        booleans.append(i)\n",
    "        \n",
    "    elif type(i) == int:\n",
    "        integers.append(i)\n",
    "        \n",
    "    eliif type(i) == str:\n",
    "        strings.append(i)\n",
    "        \n",
    "print(booleans)\n",
    "print(floats)\n",
    "print(integers)\n",
    "print(string)\n",
    "        "
   ]
  },
  {
   "cell_type": "code",
   "execution_count": 117,
   "id": "54ed102b",
   "metadata": {},
   "outputs": [
    {
     "name": "stdout",
     "output_type": "stream",
     "text": [
      "2 4 6 8 10 12 14 16 18 20 22 24 26 28 30 32 34 36 38 "
     ]
    }
   ],
   "source": [
    "a = [i for i in range(1, 39)]\n",
    "for num in a:\n",
    "    if(num % 2) == 0:\n",
    "        print(num, end=\" \")"
   ]
  },
  {
   "cell_type": "code",
   "execution_count": 64,
   "id": "d6cfb272",
   "metadata": {},
   "outputs": [
    {
     "ename": "TypeError",
     "evalue": "not all arguments converted during string formatting",
     "output_type": "error",
     "traceback": [
      "\u001b[1;31m---------------------------------------------------------------------------\u001b[0m",
      "\u001b[1;31mTypeError\u001b[0m                                 Traceback (most recent call last)",
      "\u001b[1;32m~\\AppData\\Local\\Temp/ipykernel_9312/567918827.py\u001b[0m in \u001b[0;36m<module>\u001b[1;34m\u001b[0m\n\u001b[0;32m      1\u001b[0m \u001b[0marray\u001b[0m \u001b[1;33m=\u001b[0m \u001b[1;33m[\u001b[0m\u001b[1;33m]\u001b[0m\u001b[1;33m\u001b[0m\u001b[1;33m\u001b[0m\u001b[0m\n\u001b[0;32m      2\u001b[0m \u001b[1;32mfor\u001b[0m \u001b[0mi\u001b[0m \u001b[1;32min\u001b[0m \u001b[0ma\u001b[0m\u001b[1;33m:\u001b[0m\u001b[1;33m\u001b[0m\u001b[1;33m\u001b[0m\u001b[0m\n\u001b[1;32m----> 3\u001b[1;33m     \u001b[1;32mif\u001b[0m \u001b[0mi\u001b[0m \u001b[1;33m%\u001b[0m \u001b[1;36m2\u001b[0m \u001b[1;33m==\u001b[0m \u001b[1;36m0\u001b[0m\u001b[1;33m:\u001b[0m\u001b[1;33m\u001b[0m\u001b[1;33m\u001b[0m\u001b[0m\n\u001b[0m\u001b[0;32m      4\u001b[0m         \u001b[0marray\u001b[0m\u001b[1;33m.\u001b[0m\u001b[0mappend\u001b[0m\u001b[1;33m(\u001b[0m\u001b[0mi\u001b[0m\u001b[1;33m)\u001b[0m\u001b[1;33m\u001b[0m\u001b[1;33m\u001b[0m\u001b[0m\n\u001b[0;32m      5\u001b[0m \u001b[0mprint\u001b[0m\u001b[1;33m(\u001b[0m\u001b[0marray\u001b[0m\u001b[1;33m)\u001b[0m\u001b[1;33m\u001b[0m\u001b[1;33m\u001b[0m\u001b[0m\n",
      "\u001b[1;31mTypeError\u001b[0m: not all arguments converted during string formatting"
     ]
    }
   ],
   "source": [
    "array = []\n",
    "for i in a:\n",
    "    if i % 2 == 0:\n",
    "        array.append(i)\n",
    "print(array)"
   ]
  },
  {
   "cell_type": "code",
   "execution_count": 4,
   "id": "b044d985",
   "metadata": {},
   "outputs": [
    {
     "name": "stdout",
     "output_type": "stream",
     "text": [
      "[1, -2, 3, 0]\n"
     ]
    }
   ],
   "source": [
    "a = [\"james\", \"cedi\", \"benneth\", \"kola\"]\n",
    "b = [\"tobe\", \"mattew\", \"fila\", \"jack\"]\n",
    "diff_arr = []\n",
    "if len(a) == len(b):\n",
    "    for i in range(0, len(a)):\n",
    "        val = len(a[i]) - len(b[i])\n",
    "        diff_arr.append(val)\n",
    "    print(diff_arr)\n",
    "else:\n",
    "    print(\"index not same\")"
   ]
  },
  {
   "cell_type": "code",
   "execution_count": 5,
   "id": "006801c9",
   "metadata": {},
   "outputs": [
    {
     "data": {
      "text/plain": [
       "6"
      ]
     },
     "execution_count": 5,
     "metadata": {},
     "output_type": "execute_result"
    }
   ],
   "source": [
    "a = \"string\"\n",
    "len(a)"
   ]
  },
  {
   "cell_type": "code",
   "execution_count": 6,
   "id": "e40de918",
   "metadata": {},
   "outputs": [
    {
     "data": {
      "text/plain": [
       "1"
      ]
     },
     "execution_count": 6,
     "metadata": {},
     "output_type": "execute_result"
    }
   ],
   "source": [
    "a = [\"string\"]\n",
    "len(a)"
   ]
  },
  {
   "cell_type": "code",
   "execution_count": 15,
   "id": "4a8180b6",
   "metadata": {},
   "outputs": [
    {
     "name": "stdout",
     "output_type": "stream",
     "text": [
      "['25cm', '15cm']\n"
     ]
    }
   ],
   "source": [
    "list_array = [\"10m\", \"20m\", \"30m\", \"15m\"]\n",
    "list_array2 = [\"40m\", \"20m\", \"25cm\", \"15cm\"]\n",
    "array_cm = []\n",
    "for i in list_array2:\n",
    "    split_i = []\n",
    "    for b in i:\n",
    "        split_i.append(b)\n",
    "    ##print(split_i)\n",
    "    a = \"\".join(split_i[2:])\n",
    "    #print(a)\n",
    "    if a == \"cm\":\n",
    "        array_cm.append(i)\n",
    "print(array_cm)"
   ]
  },
  {
   "cell_type": "code",
   "execution_count": 16,
   "id": "b9fc2b88",
   "metadata": {},
   "outputs": [
    {
     "name": "stdout",
     "output_type": "stream",
     "text": [
      "['25', '15']\n"
     ]
    }
   ],
   "source": [
    "lst_val = []\n",
    "for i in list_array2:\n",
    "    split_i = []\n",
    "    for b in i:\n",
    "        split_i.append(b)\n",
    "        k = \"\".join(split_i[2:])\n",
    "        d = \"\".join(split_i[:-2])\n",
    "        if k == \"cm\":\n",
    "            lst_val.append(d)\n",
    "print(lst_val)"
   ]
  },
  {
   "cell_type": "code",
   "execution_count": 40,
   "id": "8872b65d",
   "metadata": {},
   "outputs": [
    {
     "name": "stdout",
     "output_type": "stream",
     "text": [
      "['25', '15']\n",
      "['40', '20']\n"
     ]
    }
   ],
   "source": [
    "lst_val2 = []\n",
    "lst_val = []\n",
    "for i in list_array2:\n",
    "    split_i = []\n",
    "    for b in i:\n",
    "        split_i.append(b)\n",
    "    if \"c\" in split_i:\n",
    "        a = \"\".join(split_i)[:-2]\n",
    "        lst_val2.append(a)\n",
    "    else:\n",
    "        b = \"\".join(split_i[:-1])\n",
    "        lst_val.append(b)\n",
    "print(lst_val2)\n",
    "print(lst_val)"
   ]
  },
  {
   "cell_type": "code",
   "execution_count": 41,
   "id": "2d14865b",
   "metadata": {},
   "outputs": [
    {
     "name": "stdout",
     "output_type": "stream",
     "text": [
      "[0.25, 0.15]\n"
     ]
    }
   ],
   "source": [
    "convert_cm = [round(int(i)/100, 2) for i in lst_val2]\n",
    "print(convert_cm)"
   ]
  },
  {
   "cell_type": "code",
   "execution_count": 42,
   "id": "34a1d879",
   "metadata": {},
   "outputs": [
    {
     "name": "stdout",
     "output_type": "stream",
     "text": [
      "[40, 20]\n"
     ]
    }
   ],
   "source": [
    "meters = [int(i) for i in lst_val]\n",
    "print(meters)"
   ]
  },
  {
   "cell_type": "code",
   "execution_count": 43,
   "id": "fed98c8d",
   "metadata": {},
   "outputs": [
    {
     "name": "stdout",
     "output_type": "stream",
     "text": [
      "[40, 20, 0.25, 0.15]\n"
     ]
    }
   ],
   "source": [
    "for i in convert_cm:\n",
    "    meters.append(i)\n",
    "print(meters)"
   ]
  },
  {
   "cell_type": "code",
   "execution_count": 44,
   "id": "53967223",
   "metadata": {},
   "outputs": [
    {
     "data": {
      "text/plain": [
       "['10m', '20m', '30m', '15m']"
      ]
     },
     "execution_count": 44,
     "metadata": {},
     "output_type": "execute_result"
    }
   ],
   "source": [
    "list_array"
   ]
  },
  {
   "cell_type": "code",
   "execution_count": 45,
   "id": "02ffd7cf",
   "metadata": {},
   "outputs": [
    {
     "name": "stdout",
     "output_type": "stream",
     "text": [
      "['10', '20', '30', '15']\n"
     ]
    }
   ],
   "source": [
    "numb = []\n",
    "for i in list_array:\n",
    "    a_arr = []\n",
    "    for b in i:\n",
    "        a_arr.append(b)\n",
    "    k = \"\".join(a_arr[:-1])\n",
    "    numb.append(k)\n",
    "print(numb)"
   ]
  },
  {
   "cell_type": "code",
   "execution_count": 46,
   "id": "4a7d0117",
   "metadata": {},
   "outputs": [
    {
     "name": "stdout",
     "output_type": "stream",
     "text": [
      "[10, 20, 30, 15]\n"
     ]
    }
   ],
   "source": [
    "convert_numb = [int(i) for i in numb]\n",
    "print(convert_numb)"
   ]
  },
  {
   "cell_type": "code",
   "execution_count": 47,
   "id": "98af25c7",
   "metadata": {},
   "outputs": [
    {
     "name": "stdout",
     "output_type": "stream",
     "text": [
      "-30meters\n",
      "0meters\n",
      "29.75meters\n",
      "14.85meters\n"
     ]
    }
   ],
   "source": [
    "if len(meters) == len(convert_numb):\n",
    "    for i in range(0, len(meters)):\n",
    "        diff = convert_numb[i] - meters[i]\n",
    "        print(f\"{diff}meters\")"
   ]
  },
  {
   "cell_type": "code",
   "execution_count": 49,
   "id": "eba89826",
   "metadata": {},
   "outputs": [
    {
     "name": "stdout",
     "output_type": "stream",
     "text": [
      "['j', 'u', 'd', 'e']\n",
      "['b', 'o', 'l', 'e']\n"
     ]
    }
   ],
   "source": [
    "d = [\"jude\", \"bole\"]\n",
    "for i in d:\n",
    "    sep = []\n",
    "    for k in i:\n",
    "        sep.append(k)\n",
    "    print(sep)"
   ]
  },
  {
   "cell_type": "code",
   "execution_count": 129,
   "id": "60ff7c8c",
   "metadata": {},
   "outputs": [
    {
     "name": "stdout",
     "output_type": "stream",
     "text": [
      "John is 30 years old\n",
      "Lola is 43 years old\n",
      "Bayo is 25 years old\n"
     ]
    }
   ],
   "source": [
    "name = [\"john\", \"lola\", \"bayo\"]\n",
    "ages = [30, 43, 25]\n",
    "\n",
    "array = []\n",
    "for n in name:\n",
    "    a = n.split()[0][0].upper() + n.split()[0][1:]\n",
    "    array.append(a)\n",
    "\n",
    "a = array[0]\n",
    "b = ages[0]\n",
    "\n",
    "c = array[1]\n",
    "d = ages[1]\n",
    "\n",
    "e = array[2]\n",
    "f = ages[2]\n",
    "\n",
    "print(f\"{a} is {b} years old\")\n",
    "print(f\"{c} is {d} years old\")\n",
    "print(f\"{e} is {f} years old\")"
   ]
  },
  {
   "cell_type": "code",
   "execution_count": 27,
   "id": "935cfeab",
   "metadata": {},
   "outputs": [
    {
     "ename": "SyntaxError",
     "evalue": "invalid syntax (Temp/ipykernel_3076/2287311680.py, line 1)",
     "output_type": "error",
     "traceback": [
      "\u001b[1;36m  File \u001b[1;32m\"C:\\Users\\Trainee\\AppData\\Local\\Temp/ipykernel_3076/2287311680.py\"\u001b[1;36m, line \u001b[1;32m1\u001b[0m\n\u001b[1;33m    b = name[0][0]value[0:] + n.split()[0][1:]\u001b[0m\n\u001b[1;37m                  ^\u001b[0m\n\u001b[1;31mSyntaxError\u001b[0m\u001b[1;31m:\u001b[0m invalid syntax\n"
     ]
    }
   ],
   "source": [
    "b = name[0][0]value[0:] + n.split()[0][1:]\n",
    "print(b)"
   ]
  },
  {
   "cell_type": "code",
   "execution_count": 3,
   "id": "a1082220",
   "metadata": {},
   "outputs": [
    {
     "name": "stdout",
     "output_type": "stream",
     "text": [
      "[1, 3, 5, 7, 9, 11, 13, 15, 17, 19]\n"
     ]
    }
   ],
   "source": [
    "add_val = []\n",
    "for i in range(0, 20):\n",
    "    if i%2 != 0:\n",
    "        add_val.append(i)\n",
    "print(add_val)"
   ]
  },
  {
   "cell_type": "code",
   "execution_count": 4,
   "id": "31910aca",
   "metadata": {},
   "outputs": [
    {
     "name": "stdout",
     "output_type": "stream",
     "text": [
      "[1, 3, 5, 7, 9, 11, 13, 15, 17, 19]\n"
     ]
    }
   ],
   "source": [
    "add_val = [i for i in range(0, 20) if i%2 != 0]\n",
    "print(add_val)"
   ]
  },
  {
   "cell_type": "code",
   "execution_count": 11,
   "id": "7f819864",
   "metadata": {},
   "outputs": [
    {
     "name": "stdout",
     "output_type": "stream",
     "text": [
      "120\n"
     ]
    }
   ],
   "source": [
    "a = \"james\"\n",
    "perm = 1\n",
    "for i in range(1, len(a)+1):\n",
    "    perm = perm * i\n",
    "print(perm)"
   ]
  },
  {
   "cell_type": "code",
   "execution_count": 13,
   "id": "335706e8",
   "metadata": {},
   "outputs": [
    {
     "name": "stdout",
     "output_type": "stream",
     "text": [
      "17\n"
     ]
    }
   ],
   "source": [
    "a = [2, 4, 7, 10]\n",
    "b = [8, 6, 9, 5, 7]\n",
    "\n",
    "for i in a:\n",
    "    for n in b:\n",
    "        d = [i, n]\n",
    "print(sum(d))"
   ]
  },
  {
   "cell_type": "code",
   "execution_count": 20,
   "id": "130df77c",
   "metadata": {},
   "outputs": [
    {
     "name": "stdout",
     "output_type": "stream",
     "text": [
      "False\n"
     ]
    }
   ],
   "source": [
    "if len(a) == len(b):\n",
    "    a_arr = []\n",
    "    for i in range(len(a)):\n",
    "        n = a[i] - b[i]\n",
    "        a_arr.append(n)\n",
    "    print(a_arr)\n",
    "else:\n",
    "    print(False)"
   ]
  },
  {
   "cell_type": "code",
   "execution_count": 25,
   "id": "8962d95b",
   "metadata": {},
   "outputs": [
    {
     "name": "stdout",
     "output_type": "stream",
     "text": [
      "[-6, -2, -2, -9, -9, -17, -7]\n"
     ]
    }
   ],
   "source": [
    "a = [2, 4, 7, 10, 16]\n",
    "b = [8, 6, 9, 19, 25, 17, 7]\n",
    "\n",
    "if len(a) == len(b):\n",
    "    a_arr = []\n",
    "    for i in range(len(a)):\n",
    "        n = a[i] - b[i]\n",
    "        a_arr.append(n)\n",
    "    print(a_arr)\n",
    "else:\n",
    "    index_diff = str(len(a) - len(b))\n",
    "    val_count = int(index_diff.split(\"-\")[-1])\n",
    "    gen_zero = [0 for i in range(val_count)]\n",
    "    \n",
    "    if len(a) > len(b):\n",
    "        all_arr = []\n",
    "        for i in gen_zero:\n",
    "            b.append(i)\n",
    "        for k in range(lem(a)):\n",
    "            m = a[k] - b[k]\n",
    "            all_arr.append(m)\n",
    "        print(all_arr)\n",
    "    else:    \n",
    "        count_arr = []\n",
    "        for j in gen_zero:\n",
    "            a.append(j)\n",
    "        for d in range(len(b)):\n",
    "            m = a[d] - b[d]\n",
    "            count_arr.append(m)\n",
    "        print(count_arr)"
   ]
  },
  {
   "cell_type": "code",
   "execution_count": 3,
   "id": "d3265c98",
   "metadata": {},
   "outputs": [],
   "source": [
    "import os"
   ]
  },
  {
   "cell_type": "code",
   "execution_count": 38,
   "id": "3d51779a",
   "metadata": {},
   "outputs": [
    {
     "name": "stdout",
     "output_type": "stream",
     "text": [
      " Volume in drive C has no label.\n",
      " Volume Serial Number is 3061-DEF1\n",
      "\n",
      " Directory of C:\\Users\\Trainee\\Desktop\\class_work\n",
      "\n",
      "07/11/2022  11:35    <DIR>          .\n",
      "07/11/2022  11:35    <DIR>          ..\n",
      "31/10/2022  09:47    <DIR>          .ipynb_checkpoints\n",
      "07/11/2022  11:35            35,704 Introduction _to_python.ipynb\n",
      "07/11/2022  11:36                28 TemperatureVals.txt\n",
      "               2 File(s)         35,732 bytes\n",
      "               3 Dir(s)  692,761,436,160 bytes free\n"
     ]
    }
   ],
   "source": [
    "!dir"
   ]
  },
  {
   "cell_type": "code",
   "execution_count": 5,
   "id": "0c1baaee",
   "metadata": {},
   "outputs": [
    {
     "data": {
      "text/plain": [
       "'C:/Users/Trainee/Desktop/class_work/TemperatureVals.txt'"
      ]
     },
     "execution_count": 5,
     "metadata": {},
     "output_type": "execute_result"
    }
   ],
   "source": [
    "path = \"C:/Users/Trainee/Desktop/class_work\"\n",
    "files = os.listdir()\n",
    "data_file = []\n",
    "for i in files:\n",
    "    if \"TemperatureVals\" in i:\n",
    "        a = path + \"/\" +i\n",
    "        data_file.append(a)\n",
    "data_file[0]"
   ]
  },
  {
   "cell_type": "code",
   "execution_count": 6,
   "id": "65042b03",
   "metadata": {},
   "outputs": [
    {
     "name": "stdout",
     "output_type": "stream",
     "text": [
      "[3.162, 4.472, 5.477, 6.325, 7.071, 7.746, 8.367]\n"
     ]
    }
   ],
   "source": [
    "#open a file\n",
    "with open(data_file[0], \"r\") as d:\n",
    "    f_val = d.read().split()\n",
    "    \n",
    "list_file = [round((int(i)**(1/2)), 3) for i in f_val]\n",
    "print(list_file)\n",
    "\n",
    "a_file = open(\"new_temp.txt\", \"a\")\n",
    "for n in list_file:\n",
    "    a_file.write(f\"the temperature value is {n}\\n\")"
   ]
  },
  {
   "cell_type": "code",
   "execution_count": 58,
   "id": "55c6068d",
   "metadata": {},
   "outputs": [
    {
     "name": "stdout",
     "output_type": "stream",
     "text": [
      "['10', '20', '30', '40', '50', '60', '70']\n",
      "[3.162, 4.472, 5.477, 6.325, 7.071, 7.746, 8.367]\n"
     ]
    }
   ],
   "source": [
    "p  = \"C:/Users/Trainee/Desktop/class_work/TemperatureVals.txt\"\n",
    "with open(p, \"r\") as d:\n",
    "    f_val = d.read().split()\n",
    "print(f_val)\n",
    "list_file = [round((int(i)**(1/2)), 3) for i in f_val]\n",
    "print(list_file)"
   ]
  },
  {
   "cell_type": "markdown",
   "id": "0dd5467f",
   "metadata": {},
   "source": []
  },
  {
   "cell_type": "markdown",
   "id": "46157eaf",
   "metadata": {},
   "source": [
    "# Class-Work"
   ]
  },
  {
   "cell_type": "code",
   "execution_count": 48,
   "id": "ef561832",
   "metadata": {},
   "outputs": [],
   "source": [
    "firstname = [\"katie\", \"bicah\", \"lemah\", \"judie\" ]\n",
    "surname = [\"tomato\"]"
   ]
  },
  {
   "cell_type": "code",
   "execution_count": 56,
   "id": "171eb487",
   "metadata": {},
   "outputs": [
    {
     "name": "stdout",
     "output_type": "stream",
     "text": [
      "katie tomato\n",
      "bicah tomato\n",
      "lemah tomato\n"
     ]
    }
   ],
   "source": [
    "name_1 = firstname[0] + \" \" + surname[0]\n",
    "name_2 = firstname[1] + \" \" + surname[0]\n",
    "name_3 = firstname[2] + \" \" + surname[0]\n",
    "\n",
    "print(name_1)\n",
    "print(name_2)\n",
    "print(name_3)"
   ]
  },
  {
   "cell_type": "raw",
   "id": "6c9cb600",
   "metadata": {},
   "source": []
  },
  {
   "cell_type": "markdown",
   "id": "e0e85aab",
   "metadata": {},
   "source": [
    "# Matrices"
   ]
  },
  {
   "cell_type": "code",
   "execution_count": 8,
   "id": "9548eee9",
   "metadata": {},
   "outputs": [],
   "source": [
    "import pandas as pd"
   ]
  },
  {
   "cell_type": "code",
   "execution_count": 1,
   "id": "482a03b7",
   "metadata": {},
   "outputs": [
    {
     "name": "stdout",
     "output_type": "stream",
     "text": [
      "name\n",
      "funmi\n",
      "bola\n"
     ]
    }
   ],
   "source": [
    "a = [[\"name\", \"age\", \"score\"],\n",
    "     [\"funmi\", \"27\", \"78\"],\n",
    "     [\"bola\", \"30\", \"90\"]]\n",
    "\n",
    "print(a[0][0])\n",
    "print(a[1][0])\n",
    "print(a[2][0])"
   ]
  },
  {
   "cell_type": "code",
   "execution_count": 10,
   "id": "cd705b2c",
   "metadata": {},
   "outputs": [
    {
     "name": "stdout",
     "output_type": "stream",
     "text": [
      "age\n",
      "27\n",
      "30\n"
     ]
    }
   ],
   "source": [
    "print(a[0][1])\n",
    "print(a[1][1])\n",
    "print(a[2][1])"
   ]
  },
  {
   "cell_type": "code",
   "execution_count": 14,
   "id": "f6810153",
   "metadata": {},
   "outputs": [
    {
     "name": "stdout",
     "output_type": "stream",
     "text": [
      "0 0\n",
      "1 0\n",
      "2 0\n",
      "0 1\n",
      "1 1\n",
      "2 1\n",
      "0 2\n",
      "1 2\n",
      "2 2\n"
     ]
    }
   ],
   "source": [
    "for i in range(0, 3):\n",
    "    for a in range(0, 3):\n",
    "        print(a, i)"
   ]
  },
  {
   "cell_type": "code",
   "execution_count": 5,
   "id": "b875eb9b",
   "metadata": {},
   "outputs": [
    {
     "data": {
      "text/html": [
       "<div>\n",
       "<style scoped>\n",
       "    .dataframe tbody tr th:only-of-type {\n",
       "        vertical-align: middle;\n",
       "    }\n",
       "\n",
       "    .dataframe tbody tr th {\n",
       "        vertical-align: top;\n",
       "    }\n",
       "\n",
       "    .dataframe thead th {\n",
       "        text-align: right;\n",
       "    }\n",
       "</style>\n",
       "<table border=\"1\" class=\"dataframe\">\n",
       "  <thead>\n",
       "    <tr style=\"text-align: right;\">\n",
       "      <th></th>\n",
       "      <th>name</th>\n",
       "      <th>age</th>\n",
       "      <th>score</th>\n",
       "    </tr>\n",
       "  </thead>\n",
       "  <tbody>\n",
       "    <tr>\n",
       "      <th>0</th>\n",
       "      <td>funmi</td>\n",
       "      <td>27</td>\n",
       "      <td>78</td>\n",
       "    </tr>\n",
       "    <tr>\n",
       "      <th>1</th>\n",
       "      <td>bola</td>\n",
       "      <td>30</td>\n",
       "      <td>90</td>\n",
       "    </tr>\n",
       "  </tbody>\n",
       "</table>\n",
       "</div>"
      ],
      "text/plain": [
       "    name age score\n",
       "0  funmi  27    78\n",
       "1   bola  30    90"
      ]
     },
     "execution_count": 5,
     "metadata": {},
     "output_type": "execute_result"
    }
   ],
   "source": [
    "import pandas as pd\n",
    "df = pd.DataFrame(a[1:], columns=a[0])\n",
    "df"
   ]
  },
  {
   "cell_type": "code",
   "execution_count": 6,
   "id": "2d0a972c",
   "metadata": {},
   "outputs": [
    {
     "data": {
      "text/plain": [
       "'bola'"
      ]
     },
     "execution_count": 6,
     "metadata": {},
     "output_type": "execute_result"
    }
   ],
   "source": [
    "a[2][0]"
   ]
  },
  {
   "cell_type": "code",
   "execution_count": 8,
   "id": "269e63cf",
   "metadata": {},
   "outputs": [
    {
     "name": "stdout",
     "output_type": "stream",
     "text": [
      "['name', 'funmi', 'bola']\n",
      "['age', '27', '30']\n",
      "['score', '78', '90']\n"
     ]
    }
   ],
   "source": [
    "for i in range(0, len(a)):\n",
    "    index_value = []\n",
    "    for n in a:\n",
    "        index_value.append(n[i])\n",
    "    print(index_value)"
   ]
  },
  {
   "cell_type": "code",
   "execution_count": 10,
   "id": "88292cdd",
   "metadata": {},
   "outputs": [
    {
     "name": "stdout",
     "output_type": "stream",
     "text": [
      "[['name', 'funmi', 'bola'], ['age', '27', '30'], ['score', '78', '90']]\n"
     ]
    }
   ],
   "source": [
    "new_arr = []\n",
    "for i in range(0, 3):\n",
    "    arr = []\n",
    "    for n in a:\n",
    "        arr.append(n[i])\n",
    "    new_arr.append(arr)\n",
    "print(new_arr)"
   ]
  },
  {
   "cell_type": "code",
   "execution_count": 22,
   "id": "bd27d82a",
   "metadata": {},
   "outputs": [
    {
     "name": "stdout",
     "output_type": "stream",
     "text": [
      "0 3\n",
      "0 4\n",
      "0 5\n",
      "1 3\n",
      "1 4\n",
      "1 5\n",
      "2 3\n",
      "2 4\n",
      "2 5\n"
     ]
    }
   ],
   "source": [
    "for a in range(0, 3):\n",
    "    for n in range(3, 6):\n",
    "        print(a, n)"
   ]
  },
  {
   "cell_type": "code",
   "execution_count": 47,
   "id": "35016c2c",
   "metadata": {},
   "outputs": [
    {
     "name": "stdout",
     "output_type": "stream",
     "text": [
      "[0, 2]\n"
     ]
    }
   ],
   "source": [
    "b = [9, 10, 11, 2, 7]\n",
    "\n",
    "#sum any index that would give you 18\n",
    "\n",
    "for j in range(0, len(b)):\n",
    "    for d in range(j+1, len(b)):\n",
    "        k = [b[j], b[d]]\n",
    "        if sum(k) == 20:\n",
    "            print([j, d])"
   ]
  },
  {
   "cell_type": "code",
   "execution_count": 50,
   "id": "dc0b8b77",
   "metadata": {},
   "outputs": [],
   "source": [
    "a = [[\"name\", \"age\", \"score\"],\n",
    "     [\"funmi\", \"27\", \"78\"],\n",
    "     [\"bola\", \"30\", \"90\"]]"
   ]
  },
  {
   "cell_type": "markdown",
   "id": "93674547",
   "metadata": {},
   "source": [
    "#create an array of a[0][2], a[1][1], a[2][0]"
   ]
  },
  {
   "cell_type": "code",
   "execution_count": 24,
   "id": "3b381ef2",
   "metadata": {},
   "outputs": [
    {
     "data": {
      "text/plain": [
       "('score', '27', 'bola')"
      ]
     },
     "execution_count": 24,
     "metadata": {},
     "output_type": "execute_result"
    }
   ],
   "source": [
    "a[0][2], a[1][1], a[2][0]"
   ]
  },
  {
   "cell_type": "code",
   "execution_count": 48,
   "id": "c2a820d4",
   "metadata": {},
   "outputs": [
    {
     "data": {
      "text/plain": [
       "['bola', '30', '90']"
      ]
     },
     "execution_count": 48,
     "metadata": {},
     "output_type": "execute_result"
    }
   ],
   "source": [
    "a[i]"
   ]
  },
  {
   "cell_type": "code",
   "execution_count": 74,
   "id": "a76ed912",
   "metadata": {},
   "outputs": [
    {
     "name": "stdout",
     "output_type": "stream",
     "text": [
      "[[1, 2, 4, 9], [9, 10, 12, 8], [4, 43, 11, 7]]\n"
     ]
    }
   ],
   "source": [
    "list_arr = [[1, 2, 4, 9],\n",
    "           [9, 10, 12, 8],\n",
    "           [4, 43, 11, 7]]\n",
    "print(list_arr)"
   ]
  },
  {
   "cell_type": "code",
   "execution_count": 75,
   "id": "7a9a9b34",
   "metadata": {},
   "outputs": [
    {
     "name": "stdout",
     "output_type": "stream",
     "text": [
      "[[1, 9, 4], [2, 10, 43], [4, 12, 11], [9, 8, 7]]\n"
     ]
    }
   ],
   "source": [
    "new_arr = []\n",
    "for i in range(0, len(list_arr[0])):\n",
    "    arr = []\n",
    "    for n in list_arr:\n",
    "        arr.append(n[i])\n",
    "    new_arr.append(arr)\n",
    "print(new_arr)"
   ]
  },
  {
   "cell_type": "code",
   "execution_count": 52,
   "id": "3e06b731",
   "metadata": {},
   "outputs": [],
   "source": [
    "a = [[\"name\", \"age\", \"score\"],\n",
    "     [\"funmi\", \"27\", \"78\"],\n",
    "     [\"bola\", \"30\", \"90\"]]"
   ]
  },
  {
   "cell_type": "code",
   "execution_count": null,
   "id": "6075922e",
   "metadata": {},
   "outputs": [],
   "source": []
  }
 ],
 "metadata": {
  "kernelspec": {
   "display_name": "Python 3 (ipykernel)",
   "language": "python",
   "name": "python3"
  },
  "language_info": {
   "codemirror_mode": {
    "name": "ipython",
    "version": 3
   },
   "file_extension": ".py",
   "mimetype": "text/x-python",
   "name": "python",
   "nbconvert_exporter": "python",
   "pygments_lexer": "ipython3",
   "version": "3.9.7"
  }
 },
 "nbformat": 4,
 "nbformat_minor": 5
}
