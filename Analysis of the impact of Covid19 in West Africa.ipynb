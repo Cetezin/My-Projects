{
 "cells": [
  {
   "cell_type": "code",
   "execution_count": 44,
   "id": "3b7ef029",
   "metadata": {
    "scrolled": true
   },
   "outputs": [],
   "source": [
    "#Getting the data in json format\n",
    "\n",
    "import json\n",
    "data = \"covid.json\"\n",
    "data_rec = []\n",
    "for i in open(data):\n",
    "    a = json.loads(i)\n",
    "    data_rec.append(a)\n"
   ]
  },
  {
   "cell_type": "code",
   "execution_count": 2,
   "id": "836f0286",
   "metadata": {},
   "outputs": [],
   "source": [
    "import pandas as pd\n",
    "covid_df = pd.DataFrame(data_rec)"
   ]
  },
  {
   "cell_type": "code",
   "execution_count": 3,
   "id": "5bde8a35",
   "metadata": {},
   "outputs": [
    {
     "data": {
      "text/plain": [
       "Index(['AFG', 'OWID_AFR', 'ALB', 'DZA', 'AND', 'AGO', 'AIA', 'ATG', 'ARG',\n",
       "       'ARM',\n",
       "       ...\n",
       "       'UZB', 'VUT', 'VAT', 'VEN', 'VNM', 'WLF', 'OWID_WRL', 'YEM', 'ZMB',\n",
       "       'ZWE'],\n",
       "      dtype='object', length=225)"
      ]
     },
     "execution_count": 3,
     "metadata": {},
     "output_type": "execute_result"
    }
   ],
   "source": [
    "covid_df.columns"
   ]
  },
  {
   "cell_type": "code",
   "execution_count": 4,
   "id": "1e08bde9",
   "metadata": {},
   "outputs": [
    {
     "data": {
      "text/plain": [
       "(1, 225)"
      ]
     },
     "execution_count": 4,
     "metadata": {},
     "output_type": "execute_result"
    }
   ],
   "source": [
    "covid_df.shape"
   ]
  },
  {
   "cell_type": "code",
   "execution_count": 5,
   "id": "f9f7c1d9",
   "metadata": {},
   "outputs": [
    {
     "name": "stdout",
     "output_type": "stream",
     "text": [
      "['AFG', 'OWID_AFR', 'ALB', 'DZA', 'AND', 'AGO', 'AIA', 'ATG', 'ARG', 'ARM', 'ABW', 'OWID_ASI', 'AUS', 'AUT', 'AZE', 'BHS', 'BHR', 'BGD', 'BRB', 'BLR', 'BEL', 'BLZ', 'BEN', 'BMU', 'BTN', 'BOL', 'BIH', 'BWA', 'BRA', 'VGB', 'BRN', 'BGR', 'BFA', 'BDI', 'KHM', 'CMR', 'CAN', 'CPV', 'CYM', 'CAF', 'TCD', 'CHL', 'CHN', 'COL', 'COM', 'COG', 'CRI', 'CIV', 'HRV', 'CUB', 'CUW', 'CYP', 'CZE', 'COD', 'DNK', 'DJI', 'DMA', 'DOM', 'ECU', 'EGY', 'SLV', 'GNQ', 'ERI', 'EST', 'SWZ', 'ETH', 'OWID_EUR', 'OWID_EUN', 'FRO', 'FJI', 'FIN', 'FRA', 'PYF', 'GAB', 'GMB', 'GEO', 'DEU', 'GHA', 'GIB', 'GRC', 'GRL', 'GRD', 'GTM', 'GGY', 'GIN', 'GNB', 'GUY', 'HTI', 'OWID_HIC', 'HND', 'HKG', 'HUN', 'ISL', 'IND', 'IDN', 'OWID_INT', 'IRN', 'IRQ', 'IRL', 'IMN', 'ISR', 'ITA', 'JAM', 'JPN', 'JEY', 'JOR', 'KAZ', 'KEN', 'KIR', 'OWID_KOS', 'KWT', 'KGZ', 'LAO', 'LVA', 'LBN', 'LSO', 'LBR', 'LBY', 'LIE', 'LTU', 'OWID_LIC', 'OWID_LMC', 'LUX', 'MAC', 'MDG', 'MWI', 'MYS', 'MDV', 'MLI', 'MLT', 'MHL', 'MRT', 'MUS', 'MEX', 'FSM', 'MDA', 'MCO', 'MNG', 'MNE', 'MAR', 'MOZ', 'MMR', 'NAM', 'NPL', 'NLD', 'NCL', 'NZL', 'NIC', 'NER', 'NGA', 'OWID_NAM', 'MKD', 'OWID_CYN', 'NOR', 'OWID_OCE', 'OMN', 'PAK', 'PLW', 'PSE', 'PAN', 'PNG', 'PRY', 'PER', 'PHL', 'POL', 'PRT', 'QAT', 'ROU', 'RUS', 'RWA', 'KNA', 'LCA', 'VCT', 'WSM', 'SMR', 'STP', 'SAU', 'SEN', 'SRB', 'SYC', 'SLE', 'SGP', 'SXM', 'SVK', 'SVN', 'SLB', 'SOM', 'ZAF', 'OWID_SAM', 'KOR', 'SSD', 'ESP', 'LKA', 'SDN', 'SUR', 'SWE', 'CHE', 'SYR', 'TWN', 'TJK', 'TZA', 'THA', 'TLS', 'TGO', 'TON', 'TTO', 'TUN', 'TUR', 'UGA', 'UKR', 'ARE', 'GBR', 'USA', 'OWID_UMC', 'URY', 'UZB', 'VUT', 'VAT', 'VEN', 'VNM', 'WLF', 'OWID_WRL', 'YEM', 'ZMB', 'ZWE']\n"
     ]
    }
   ],
   "source": [
    "print(covid_df.columns.tolist())"
   ]
  },
  {
   "cell_type": "code",
   "execution_count": 6,
   "id": "e8fcab1a",
   "metadata": {},
   "outputs": [],
   "source": [
    "#a function to convert data to list\n",
    "def covid_data(country):\n",
    "    array = []\n",
    "    for i in covid_df[country].values:\n",
    "        for a,b in i.items():\n",
    "            array.append(b)\n",
    "    return array\n",
    "\n",
    "#converting data to dataframe   \n",
    "def dataframe(array):\n",
    "    ng_df = pd.DataFrame(array)\n",
    "    return ng_df"
   ]
  },
  {
   "cell_type": "code",
   "execution_count": 7,
   "id": "2e4fe65f",
   "metadata": {},
   "outputs": [],
   "source": [
    "nig_data = covid_data('NGA')\n",
    "nig_df = dataframe(nig_data)"
   ]
  },
  {
   "cell_type": "code",
   "execution_count": 8,
   "id": "4c470479",
   "metadata": {},
   "outputs": [],
   "source": [
    "ben_data = covid_data('BEN')\n",
    "ben_df = dataframe(ben_data)"
   ]
  },
  {
   "cell_type": "code",
   "execution_count": 9,
   "id": "37611b8e",
   "metadata": {},
   "outputs": [],
   "source": [
    "cam_data = covid_data('CMR')\n",
    "cam_df = dataframe(cam_data)"
   ]
  },
  {
   "cell_type": "code",
   "execution_count": 10,
   "id": "72f6f439",
   "metadata": {},
   "outputs": [],
   "source": [
    "ghan_data = covid_data('GHA')\n",
    "ghan_df = dataframe(ghan_data)"
   ]
  },
  {
   "cell_type": "code",
   "execution_count": 11,
   "id": "2a060e45",
   "metadata": {},
   "outputs": [],
   "source": [
    "burk_data = covid_data('BFA')\n",
    "burk_df = dataframe(burk_data)"
   ]
  },
  {
   "cell_type": "code",
   "execution_count": 12,
   "id": "ff8db5d3",
   "metadata": {},
   "outputs": [],
   "source": [
    "cap_data = covid_data('CPV')\n",
    "cap_df = dataframe(cap_data)"
   ]
  },
  {
   "cell_type": "code",
   "execution_count": 13,
   "id": "6ca21405",
   "metadata": {},
   "outputs": [],
   "source": [
    "cot_data = covid_data('CIV')\n",
    "cot_df = dataframe(cot_data)"
   ]
  },
  {
   "cell_type": "code",
   "execution_count": 14,
   "id": "25e983a5",
   "metadata": {},
   "outputs": [],
   "source": [
    "gam_data = covid_data('GMB')\n",
    "gam_df = dataframe(gam_data)"
   ]
  },
  {
   "cell_type": "code",
   "execution_count": 15,
   "id": "29d0a6d9",
   "metadata": {},
   "outputs": [],
   "source": [
    "gui_data = covid_data('GIN')\n",
    "gui_df = dataframe(gui_data)"
   ]
  },
  {
   "cell_type": "code",
   "execution_count": 16,
   "id": "c1bffc83",
   "metadata": {},
   "outputs": [],
   "source": [
    "gui_bi_data = covid_data('GNB')\n",
    "gui_bi_df = dataframe(gui_bi_data)"
   ]
  },
  {
   "cell_type": "code",
   "execution_count": 17,
   "id": "9f55b1ec",
   "metadata": {},
   "outputs": [],
   "source": [
    "lib_data = covid_data('LBR')\n",
    "lib_df = dataframe(lib_data)"
   ]
  },
  {
   "cell_type": "code",
   "execution_count": 18,
   "id": "9b2b5e35",
   "metadata": {},
   "outputs": [],
   "source": [
    "mal_data = covid_data('MLI')\n",
    "mal_df = dataframe(mal_data)"
   ]
  },
  {
   "cell_type": "code",
   "execution_count": 19,
   "id": "dc85fa51",
   "metadata": {},
   "outputs": [],
   "source": [
    "mau_data = covid_data('MRT')\n",
    "mau_df = dataframe(mau_data)"
   ]
  },
  {
   "cell_type": "code",
   "execution_count": 20,
   "id": "9cb40f4a",
   "metadata": {},
   "outputs": [],
   "source": [
    "seng_data = covid_data('SEN')\n",
    "seng_df = dataframe(seng_data)"
   ]
  },
  {
   "cell_type": "code",
   "execution_count": 21,
   "id": "a00fe6af",
   "metadata": {},
   "outputs": [],
   "source": [
    "sier_data = covid_data('SLE')\n",
    "sier_df = dataframe(sier_data)"
   ]
  },
  {
   "cell_type": "code",
   "execution_count": 22,
   "id": "0b54b251",
   "metadata": {},
   "outputs": [],
   "source": [
    "niger_data = covid_data('NER')\n",
    "niger_df = dataframe(niger_data)"
   ]
  },
  {
   "cell_type": "code",
   "execution_count": 23,
   "id": "8061043c",
   "metadata": {},
   "outputs": [],
   "source": [
    "tog_data = covid_data('TGO')\n",
    "tog_df = dataframe(tog_data)"
   ]
  },
  {
   "cell_type": "code",
   "execution_count": 24,
   "id": "b3a0f2b8",
   "metadata": {},
   "outputs": [],
   "source": [
    "#concating all dataframe\n",
    "p = pd.concat([nig_df, ben_df, sier_df, tog_df, niger_df, seng_df, mal_df, mau_df, gui_bi_df, lib_df, gui_df, gam_df, cot_df, cam_df, cap_df, ghan_df, burk_df], axis=1)"
   ]
  },
  {
   "cell_type": "code",
   "execution_count": 25,
   "id": "57eebd1b",
   "metadata": {},
   "outputs": [],
   "source": [
    "#transposing the dataframe\n",
    "p_dt = p.T"
   ]
  },
  {
   "cell_type": "code",
   "execution_count": 26,
   "id": "828ff1ef",
   "metadata": {},
   "outputs": [],
   "source": [
    "wa_df = p_dt.reset_index(drop=True)"
   ]
  },
  {
   "cell_type": "code",
   "execution_count": 27,
   "id": "0abe5fdc",
   "metadata": {},
   "outputs": [],
   "source": [
    "#getting the columns\n",
    "arr = []\n",
    "for i in covid_df['NGA'].values:\n",
    "    for a,b in i.items():\n",
    "        arr.append(a)"
   ]
  },
  {
   "cell_type": "code",
   "execution_count": 28,
   "id": "a2e05224",
   "metadata": {},
   "outputs": [],
   "source": [
    "wa_df.columns = arr"
   ]
  },
  {
   "cell_type": "code",
   "execution_count": 29,
   "id": "d0a85f02",
   "metadata": {},
   "outputs": [],
   "source": [
    "#we are not using all columns, so we extract the columns we will be needing\n",
    "needed_columns = ['continent','location','total_cases','new_cases','total_deaths','total_cases_per_million','total_deaths_per_million','reproduction_rate','total_vaccinations','people_vaccinated','population','population_density','median_age','gdp_per_capita','extreme_poverty','cardiovasc_death_rate','diabetes_prevalence','diabetes_prevalence','female_smokers','male_smokers','life_expectancy','human_development_index']\n",
    "\n",
    "#columns we would not need\n",
    "unwanted_columns = []\n",
    "for i in arr:\n",
    "    if i not in needed_columns:\n",
    "        unwanted_columns.append(i)"
   ]
  },
  {
   "cell_type": "code",
   "execution_count": 30,
   "id": "b100e429",
   "metadata": {},
   "outputs": [
    {
     "data": {
      "text/plain": [
       "22"
      ]
     },
     "execution_count": 30,
     "metadata": {},
     "output_type": "execute_result"
    }
   ],
   "source": [
    "len(needed_columns)"
   ]
  },
  {
   "cell_type": "code",
   "execution_count": 31,
   "id": "af365a28",
   "metadata": {},
   "outputs": [],
   "source": [
    "#dropping columns we would not need\n",
    "new_wa = wa_df.drop(unwanted_columns, axis=1)"
   ]
  },
  {
   "cell_type": "code",
   "execution_count": 32,
   "id": "c456d500",
   "metadata": {},
   "outputs": [
    {
     "data": {
      "text/plain": [
       "Index(['continent', 'location', 'total_cases', 'new_cases', 'total_deaths',\n",
       "       'total_cases_per_million', 'total_deaths_per_million',\n",
       "       'reproduction_rate', 'total_vaccinations', 'people_vaccinated',\n",
       "       'population', 'population_density', 'median_age', 'gdp_per_capita',\n",
       "       'extreme_poverty', 'cardiovasc_death_rate', 'diabetes_prevalence',\n",
       "       'female_smokers', 'male_smokers', 'life_expectancy',\n",
       "       'human_development_index'],\n",
       "      dtype='object')"
      ]
     },
     "execution_count": 32,
     "metadata": {},
     "output_type": "execute_result"
    }
   ],
   "source": [
    "new_wa.columns"
   ]
  },
  {
   "cell_type": "code",
   "execution_count": 33,
   "id": "e916d3df",
   "metadata": {},
   "outputs": [
    {
     "data": {
      "text/plain": [
       "continent                   0\n",
       "location                    0\n",
       "total_cases                 0\n",
       "new_cases                   0\n",
       "total_deaths                0\n",
       "total_cases_per_million     0\n",
       "total_deaths_per_million    0\n",
       "reproduction_rate           0\n",
       "total_vaccinations          1\n",
       "people_vaccinated           1\n",
       "population                  0\n",
       "population_density          0\n",
       "median_age                  0\n",
       "gdp_per_capita              0\n",
       "extreme_poverty             3\n",
       "cardiovasc_death_rate       0\n",
       "diabetes_prevalence         0\n",
       "female_smokers              5\n",
       "male_smokers                5\n",
       "life_expectancy             0\n",
       "human_development_index     0\n",
       "dtype: int64"
      ]
     },
     "execution_count": 33,
     "metadata": {},
     "output_type": "execute_result"
    }
   ],
   "source": [
    "new_wa.isna().sum()"
   ]
  },
  {
   "cell_type": "code",
   "execution_count": 34,
   "id": "e7398461",
   "metadata": {},
   "outputs": [],
   "source": [
    "#a function to replace empty data with mean of data\n",
    "def replace_empty_data(column):\n",
    "\n",
    "    sum_data = 0\n",
    "    not_none_data = []\n",
    "    for data in new_wa[column]:\n",
    "        if data != None:\n",
    "            sum_data = sum_data + data\n",
    "            not_none_data.append(sum_data)\n",
    "    mean_data = sum_data/len(not_none_data)\n",
    "\n",
    "    new_data = []\n",
    "    for data in new_wa[column]:\n",
    "        if data != None:\n",
    "            new_data.append(data)\n",
    "        else:\n",
    "            new_data.append(mean_data)\n",
    "    return new_data\n",
    "        "
   ]
  },
  {
   "cell_type": "code",
   "execution_count": 35,
   "id": "34f66c5c",
   "metadata": {},
   "outputs": [],
   "source": [
    "total_vacc = replace_empty_data('total_vaccinations')\n",
    "new_wa['total_vaccinations'] = total_vacc"
   ]
  },
  {
   "cell_type": "code",
   "execution_count": 36,
   "id": "aada0f7a",
   "metadata": {},
   "outputs": [],
   "source": [
    "people_vacc = replace_empty_data('people_vaccinated')\n",
    "new_wa['people_vaccinated'] = people_vacc"
   ]
  },
  {
   "cell_type": "code",
   "execution_count": 37,
   "id": "4489a86a",
   "metadata": {},
   "outputs": [],
   "source": [
    "ext_poverty = replace_empty_data('extreme_poverty')\n",
    "new_wa['extreme_poverty'] = ext_poverty"
   ]
  },
  {
   "cell_type": "code",
   "execution_count": 38,
   "id": "9bd961bc",
   "metadata": {},
   "outputs": [],
   "source": [
    "fem_smokers = replace_empty_data('female_smokers')\n",
    "new_wa['female_smokers'] = fem_smokers"
   ]
  },
  {
   "cell_type": "code",
   "execution_count": 39,
   "id": "bb70b5c5",
   "metadata": {},
   "outputs": [
    {
     "data": {
      "text/html": [
       "<div>\n",
       "<style scoped>\n",
       "    .dataframe tbody tr th:only-of-type {\n",
       "        vertical-align: middle;\n",
       "    }\n",
       "\n",
       "    .dataframe tbody tr th {\n",
       "        vertical-align: top;\n",
       "    }\n",
       "\n",
       "    .dataframe thead th {\n",
       "        text-align: right;\n",
       "    }\n",
       "</style>\n",
       "<table border=\"1\" class=\"dataframe\">\n",
       "  <thead>\n",
       "    <tr style=\"text-align: right;\">\n",
       "      <th></th>\n",
       "      <th>continent</th>\n",
       "      <th>location</th>\n",
       "      <th>total_cases</th>\n",
       "      <th>new_cases</th>\n",
       "      <th>total_deaths</th>\n",
       "      <th>total_cases_per_million</th>\n",
       "      <th>total_deaths_per_million</th>\n",
       "      <th>reproduction_rate</th>\n",
       "      <th>total_vaccinations</th>\n",
       "      <th>people_vaccinated</th>\n",
       "      <th>...</th>\n",
       "      <th>population_density</th>\n",
       "      <th>median_age</th>\n",
       "      <th>gdp_per_capita</th>\n",
       "      <th>extreme_poverty</th>\n",
       "      <th>cardiovasc_death_rate</th>\n",
       "      <th>diabetes_prevalence</th>\n",
       "      <th>female_smokers</th>\n",
       "      <th>male_smokers</th>\n",
       "      <th>life_expectancy</th>\n",
       "      <th>human_development_index</th>\n",
       "    </tr>\n",
       "  </thead>\n",
       "  <tbody>\n",
       "    <tr>\n",
       "      <th>0</th>\n",
       "      <td>Africa</td>\n",
       "      <td>Nigeria</td>\n",
       "      <td>212511.0</td>\n",
       "      <td>65.0</td>\n",
       "      <td>2902.0</td>\n",
       "      <td>1005.252</td>\n",
       "      <td>13.727</td>\n",
       "      <td>0.87</td>\n",
       "      <td>8794180.00</td>\n",
       "      <td>5701796.000</td>\n",
       "      <td>...</td>\n",
       "      <td>209.588</td>\n",
       "      <td>18.1</td>\n",
       "      <td>5338.454</td>\n",
       "      <td>35.592857</td>\n",
       "      <td>181.013</td>\n",
       "      <td>2.42</td>\n",
       "      <td>0.6</td>\n",
       "      <td>10.80</td>\n",
       "      <td>54.69</td>\n",
       "      <td>0.539</td>\n",
       "    </tr>\n",
       "    <tr>\n",
       "      <th>1</th>\n",
       "      <td>Africa</td>\n",
       "      <td>Benin</td>\n",
       "      <td>24804.0</td>\n",
       "      <td>0.0</td>\n",
       "      <td>161.0</td>\n",
       "      <td>1992.124</td>\n",
       "      <td>12.931</td>\n",
       "      <td>0.61</td>\n",
       "      <td>310321.00</td>\n",
       "      <td>269540.000</td>\n",
       "      <td>...</td>\n",
       "      <td>99.11</td>\n",
       "      <td>18.8</td>\n",
       "      <td>2064.236</td>\n",
       "      <td>49.600000</td>\n",
       "      <td>235.848</td>\n",
       "      <td>0.99</td>\n",
       "      <td>0.6</td>\n",
       "      <td>12.30</td>\n",
       "      <td>61.77</td>\n",
       "      <td>0.545</td>\n",
       "    </tr>\n",
       "    <tr>\n",
       "      <th>2</th>\n",
       "      <td>Africa</td>\n",
       "      <td>Sierra Leone</td>\n",
       "      <td>6398.0</td>\n",
       "      <td>0.0</td>\n",
       "      <td>121.0</td>\n",
       "      <td>785.865</td>\n",
       "      <td>14.862</td>\n",
       "      <td>0.02</td>\n",
       "      <td>617851.00</td>\n",
       "      <td>505385.000</td>\n",
       "      <td>...</td>\n",
       "      <td>104.7</td>\n",
       "      <td>19.1</td>\n",
       "      <td>1390.3</td>\n",
       "      <td>52.200000</td>\n",
       "      <td>325.721</td>\n",
       "      <td>2.42</td>\n",
       "      <td>8.8</td>\n",
       "      <td>41.30</td>\n",
       "      <td>54.7</td>\n",
       "      <td>0.452</td>\n",
       "    </tr>\n",
       "    <tr>\n",
       "      <th>3</th>\n",
       "      <td>Africa</td>\n",
       "      <td>Togo</td>\n",
       "      <td>26107.0</td>\n",
       "      <td>5.0</td>\n",
       "      <td>243.0</td>\n",
       "      <td>3079.294</td>\n",
       "      <td>28.662</td>\n",
       "      <td>0.67</td>\n",
       "      <td>1375481.00</td>\n",
       "      <td>929347.000</td>\n",
       "      <td>...</td>\n",
       "      <td>143.366</td>\n",
       "      <td>19.4</td>\n",
       "      <td>1429.813</td>\n",
       "      <td>49.200000</td>\n",
       "      <td>280.033</td>\n",
       "      <td>6.15</td>\n",
       "      <td>0.9</td>\n",
       "      <td>14.20</td>\n",
       "      <td>61.04</td>\n",
       "      <td>0.515</td>\n",
       "    </tr>\n",
       "    <tr>\n",
       "      <th>4</th>\n",
       "      <td>Africa</td>\n",
       "      <td>Niger</td>\n",
       "      <td>6434.0</td>\n",
       "      <td>0.0</td>\n",
       "      <td>220.0</td>\n",
       "      <td>256.02</td>\n",
       "      <td>8.754</td>\n",
       "      <td>1.21</td>\n",
       "      <td>896106.00</td>\n",
       "      <td>498894.000</td>\n",
       "      <td>...</td>\n",
       "      <td>16.955</td>\n",
       "      <td>15.1</td>\n",
       "      <td>926.0</td>\n",
       "      <td>44.500000</td>\n",
       "      <td>238.339</td>\n",
       "      <td>2.42</td>\n",
       "      <td>0.1</td>\n",
       "      <td>15.40</td>\n",
       "      <td>62.42</td>\n",
       "      <td>0.394</td>\n",
       "    </tr>\n",
       "    <tr>\n",
       "      <th>5</th>\n",
       "      <td>Africa</td>\n",
       "      <td>Senegal</td>\n",
       "      <td>73933.0</td>\n",
       "      <td>2.0</td>\n",
       "      <td>1880.0</td>\n",
       "      <td>4299.353</td>\n",
       "      <td>109.326</td>\n",
       "      <td>0.9</td>\n",
       "      <td>1586947.75</td>\n",
       "      <td>1076081.875</td>\n",
       "      <td>...</td>\n",
       "      <td>82.328</td>\n",
       "      <td>18.7</td>\n",
       "      <td>2470.58</td>\n",
       "      <td>38.000000</td>\n",
       "      <td>241.219</td>\n",
       "      <td>2.42</td>\n",
       "      <td>0.4</td>\n",
       "      <td>16.60</td>\n",
       "      <td>67.94</td>\n",
       "      <td>0.512</td>\n",
       "    </tr>\n",
       "    <tr>\n",
       "      <th>6</th>\n",
       "      <td>Africa</td>\n",
       "      <td>Mali</td>\n",
       "      <td>16294.0</td>\n",
       "      <td>61.0</td>\n",
       "      <td>571.0</td>\n",
       "      <td>781.272</td>\n",
       "      <td>27.379</td>\n",
       "      <td>1.22</td>\n",
       "      <td>596435.00</td>\n",
       "      <td>324713.000</td>\n",
       "      <td>...</td>\n",
       "      <td>15.196</td>\n",
       "      <td>16.4</td>\n",
       "      <td>2014.306</td>\n",
       "      <td>35.592857</td>\n",
       "      <td>268.024</td>\n",
       "      <td>2.42</td>\n",
       "      <td>1.6</td>\n",
       "      <td>23.00</td>\n",
       "      <td>59.31</td>\n",
       "      <td>0.434</td>\n",
       "    </tr>\n",
       "    <tr>\n",
       "      <th>7</th>\n",
       "      <td>Africa</td>\n",
       "      <td>Mauritania</td>\n",
       "      <td>37608.0</td>\n",
       "      <td>73.0</td>\n",
       "      <td>801.0</td>\n",
       "      <td>7875.84</td>\n",
       "      <td>167.745</td>\n",
       "      <td>1.15</td>\n",
       "      <td>1625803.00</td>\n",
       "      <td>1002548.000</td>\n",
       "      <td>...</td>\n",
       "      <td>4.289</td>\n",
       "      <td>20.3</td>\n",
       "      <td>3597.633</td>\n",
       "      <td>6.000000</td>\n",
       "      <td>232.347</td>\n",
       "      <td>2.42</td>\n",
       "      <td>1.6</td>\n",
       "      <td>19.25</td>\n",
       "      <td>64.92</td>\n",
       "      <td>0.546</td>\n",
       "    </tr>\n",
       "    <tr>\n",
       "      <th>8</th>\n",
       "      <td>Africa</td>\n",
       "      <td>Guinea-Bissau</td>\n",
       "      <td>6150.0</td>\n",
       "      <td>1.0</td>\n",
       "      <td>143.0</td>\n",
       "      <td>3051.367</td>\n",
       "      <td>70.95</td>\n",
       "      <td>0.56</td>\n",
       "      <td>181713.00</td>\n",
       "      <td>167199.000</td>\n",
       "      <td>...</td>\n",
       "      <td>66.191</td>\n",
       "      <td>19.4</td>\n",
       "      <td>1548.675</td>\n",
       "      <td>67.100000</td>\n",
       "      <td>382.474</td>\n",
       "      <td>2.42</td>\n",
       "      <td>1.6</td>\n",
       "      <td>19.25</td>\n",
       "      <td>58.32</td>\n",
       "      <td>0.48</td>\n",
       "    </tr>\n",
       "    <tr>\n",
       "      <th>9</th>\n",
       "      <td>Africa</td>\n",
       "      <td>Liberia</td>\n",
       "      <td>5815.0</td>\n",
       "      <td>0.0</td>\n",
       "      <td>287.0</td>\n",
       "      <td>1122.542</td>\n",
       "      <td>55.403</td>\n",
       "      <td>0.26</td>\n",
       "      <td>438563.00</td>\n",
       "      <td>393975.000</td>\n",
       "      <td>...</td>\n",
       "      <td>49.127</td>\n",
       "      <td>19.2</td>\n",
       "      <td>752.788</td>\n",
       "      <td>38.600000</td>\n",
       "      <td>272.509</td>\n",
       "      <td>2.42</td>\n",
       "      <td>1.5</td>\n",
       "      <td>18.10</td>\n",
       "      <td>64.1</td>\n",
       "      <td>0.48</td>\n",
       "    </tr>\n",
       "    <tr>\n",
       "      <th>10</th>\n",
       "      <td>Africa</td>\n",
       "      <td>Guinea</td>\n",
       "      <td>30681.0</td>\n",
       "      <td>0.0</td>\n",
       "      <td>385.0</td>\n",
       "      <td>2273.132</td>\n",
       "      <td>28.524</td>\n",
       "      <td>0.88</td>\n",
       "      <td>2276474.00</td>\n",
       "      <td>1529984.000</td>\n",
       "      <td>...</td>\n",
       "      <td>51.755</td>\n",
       "      <td>19.0</td>\n",
       "      <td>1998.926</td>\n",
       "      <td>35.300000</td>\n",
       "      <td>336.717</td>\n",
       "      <td>2.42</td>\n",
       "      <td>1.6</td>\n",
       "      <td>19.25</td>\n",
       "      <td>61.6</td>\n",
       "      <td>0.477</td>\n",
       "    </tr>\n",
       "    <tr>\n",
       "      <th>11</th>\n",
       "      <td>Africa</td>\n",
       "      <td>Gambia</td>\n",
       "      <td>9973.0</td>\n",
       "      <td>0.0</td>\n",
       "      <td>341.0</td>\n",
       "      <td>4010.154</td>\n",
       "      <td>137.116</td>\n",
       "      <td>0.75</td>\n",
       "      <td>265620.00</td>\n",
       "      <td>234467.000</td>\n",
       "      <td>...</td>\n",
       "      <td>207.566</td>\n",
       "      <td>17.5</td>\n",
       "      <td>1561.767</td>\n",
       "      <td>10.100000</td>\n",
       "      <td>331.43</td>\n",
       "      <td>1.91</td>\n",
       "      <td>0.7</td>\n",
       "      <td>31.20</td>\n",
       "      <td>62.05</td>\n",
       "      <td>0.496</td>\n",
       "    </tr>\n",
       "    <tr>\n",
       "      <th>12</th>\n",
       "      <td>Africa</td>\n",
       "      <td>Cote d'Ivoire</td>\n",
       "      <td>61387.0</td>\n",
       "      <td>17.0</td>\n",
       "      <td>698.0</td>\n",
       "      <td>2269.086</td>\n",
       "      <td>25.801</td>\n",
       "      <td>0.64</td>\n",
       "      <td>3232947.00</td>\n",
       "      <td>2314075.000</td>\n",
       "      <td>...</td>\n",
       "      <td>76.399</td>\n",
       "      <td>18.7</td>\n",
       "      <td>3601.006</td>\n",
       "      <td>28.200000</td>\n",
       "      <td>303.74</td>\n",
       "      <td>2.42</td>\n",
       "      <td>1.6</td>\n",
       "      <td>19.25</td>\n",
       "      <td>57.78</td>\n",
       "      <td>0.538</td>\n",
       "    </tr>\n",
       "    <tr>\n",
       "      <th>13</th>\n",
       "      <td>Africa</td>\n",
       "      <td>Cameroon</td>\n",
       "      <td>104348.0</td>\n",
       "      <td>0.0</td>\n",
       "      <td>1731.0</td>\n",
       "      <td>3832.905</td>\n",
       "      <td>63.583</td>\n",
       "      <td>0.75</td>\n",
       "      <td>503850.00</td>\n",
       "      <td>418185.000</td>\n",
       "      <td>...</td>\n",
       "      <td>50.885</td>\n",
       "      <td>18.8</td>\n",
       "      <td>3364.926</td>\n",
       "      <td>23.800000</td>\n",
       "      <td>244.661</td>\n",
       "      <td>7.2</td>\n",
       "      <td>1.6</td>\n",
       "      <td>19.25</td>\n",
       "      <td>59.29</td>\n",
       "      <td>0.563</td>\n",
       "    </tr>\n",
       "    <tr>\n",
       "      <th>14</th>\n",
       "      <td>Africa</td>\n",
       "      <td>Cape Verde</td>\n",
       "      <td>38242.0</td>\n",
       "      <td>9.0</td>\n",
       "      <td>349.0</td>\n",
       "      <td>68058.252</td>\n",
       "      <td>621.106</td>\n",
       "      <td>0.64</td>\n",
       "      <td>511628.00</td>\n",
       "      <td>293634.000</td>\n",
       "      <td>...</td>\n",
       "      <td>135.58</td>\n",
       "      <td>25.7</td>\n",
       "      <td>6222.554</td>\n",
       "      <td>35.592857</td>\n",
       "      <td>182.219</td>\n",
       "      <td>2.42</td>\n",
       "      <td>2.1</td>\n",
       "      <td>16.50</td>\n",
       "      <td>72.98</td>\n",
       "      <td>0.665</td>\n",
       "    </tr>\n",
       "    <tr>\n",
       "      <th>15</th>\n",
       "      <td>Africa</td>\n",
       "      <td>Ghana</td>\n",
       "      <td>130391.0</td>\n",
       "      <td>104.0</td>\n",
       "      <td>1188.0</td>\n",
       "      <td>4109.116</td>\n",
       "      <td>37.438</td>\n",
       "      <td>0.75</td>\n",
       "      <td>3102396.00</td>\n",
       "      <td>2269003.000</td>\n",
       "      <td>...</td>\n",
       "      <td>126.719</td>\n",
       "      <td>21.1</td>\n",
       "      <td>4227.63</td>\n",
       "      <td>12.000000</td>\n",
       "      <td>298.245</td>\n",
       "      <td>4.97</td>\n",
       "      <td>0.3</td>\n",
       "      <td>7.70</td>\n",
       "      <td>64.07</td>\n",
       "      <td>0.611</td>\n",
       "    </tr>\n",
       "    <tr>\n",
       "      <th>16</th>\n",
       "      <td>Africa</td>\n",
       "      <td>Burkina Faso</td>\n",
       "      <td>15103.0</td>\n",
       "      <td>0.0</td>\n",
       "      <td>221.0</td>\n",
       "      <td>702.56</td>\n",
       "      <td>10.28</td>\n",
       "      <td>0.51</td>\n",
       "      <td>661796.00</td>\n",
       "      <td>364565.000</td>\n",
       "      <td>...</td>\n",
       "      <td>70.151</td>\n",
       "      <td>17.6</td>\n",
       "      <td>1703.102</td>\n",
       "      <td>43.700000</td>\n",
       "      <td>269.048</td>\n",
       "      <td>2.42</td>\n",
       "      <td>1.6</td>\n",
       "      <td>23.90</td>\n",
       "      <td>61.58</td>\n",
       "      <td>0.452</td>\n",
       "    </tr>\n",
       "  </tbody>\n",
       "</table>\n",
       "<p>17 rows × 21 columns</p>\n",
       "</div>"
      ],
      "text/plain": [
       "   continent       location total_cases new_cases total_deaths  \\\n",
       "0     Africa        Nigeria    212511.0      65.0       2902.0   \n",
       "1     Africa          Benin     24804.0       0.0        161.0   \n",
       "2     Africa   Sierra Leone      6398.0       0.0        121.0   \n",
       "3     Africa           Togo     26107.0       5.0        243.0   \n",
       "4     Africa          Niger      6434.0       0.0        220.0   \n",
       "5     Africa        Senegal     73933.0       2.0       1880.0   \n",
       "6     Africa           Mali     16294.0      61.0        571.0   \n",
       "7     Africa     Mauritania     37608.0      73.0        801.0   \n",
       "8     Africa  Guinea-Bissau      6150.0       1.0        143.0   \n",
       "9     Africa        Liberia      5815.0       0.0        287.0   \n",
       "10    Africa         Guinea     30681.0       0.0        385.0   \n",
       "11    Africa         Gambia      9973.0       0.0        341.0   \n",
       "12    Africa  Cote d'Ivoire     61387.0      17.0        698.0   \n",
       "13    Africa       Cameroon    104348.0       0.0       1731.0   \n",
       "14    Africa     Cape Verde     38242.0       9.0        349.0   \n",
       "15    Africa          Ghana    130391.0     104.0       1188.0   \n",
       "16    Africa   Burkina Faso     15103.0       0.0        221.0   \n",
       "\n",
       "   total_cases_per_million total_deaths_per_million reproduction_rate  \\\n",
       "0                 1005.252                   13.727              0.87   \n",
       "1                 1992.124                   12.931              0.61   \n",
       "2                  785.865                   14.862              0.02   \n",
       "3                 3079.294                   28.662              0.67   \n",
       "4                   256.02                    8.754              1.21   \n",
       "5                 4299.353                  109.326               0.9   \n",
       "6                  781.272                   27.379              1.22   \n",
       "7                  7875.84                  167.745              1.15   \n",
       "8                 3051.367                    70.95              0.56   \n",
       "9                 1122.542                   55.403              0.26   \n",
       "10                2273.132                   28.524              0.88   \n",
       "11                4010.154                  137.116              0.75   \n",
       "12                2269.086                   25.801              0.64   \n",
       "13                3832.905                   63.583              0.75   \n",
       "14               68058.252                  621.106              0.64   \n",
       "15                4109.116                   37.438              0.75   \n",
       "16                  702.56                    10.28              0.51   \n",
       "\n",
       "    total_vaccinations  people_vaccinated  ... population_density median_age  \\\n",
       "0           8794180.00        5701796.000  ...            209.588       18.1   \n",
       "1            310321.00         269540.000  ...              99.11       18.8   \n",
       "2            617851.00         505385.000  ...              104.7       19.1   \n",
       "3           1375481.00         929347.000  ...            143.366       19.4   \n",
       "4            896106.00         498894.000  ...             16.955       15.1   \n",
       "5           1586947.75        1076081.875  ...             82.328       18.7   \n",
       "6            596435.00         324713.000  ...             15.196       16.4   \n",
       "7           1625803.00        1002548.000  ...              4.289       20.3   \n",
       "8            181713.00         167199.000  ...             66.191       19.4   \n",
       "9            438563.00         393975.000  ...             49.127       19.2   \n",
       "10          2276474.00        1529984.000  ...             51.755       19.0   \n",
       "11           265620.00         234467.000  ...            207.566       17.5   \n",
       "12          3232947.00        2314075.000  ...             76.399       18.7   \n",
       "13           503850.00         418185.000  ...             50.885       18.8   \n",
       "14           511628.00         293634.000  ...             135.58       25.7   \n",
       "15          3102396.00        2269003.000  ...            126.719       21.1   \n",
       "16           661796.00         364565.000  ...             70.151       17.6   \n",
       "\n",
       "   gdp_per_capita extreme_poverty  cardiovasc_death_rate diabetes_prevalence  \\\n",
       "0        5338.454       35.592857                181.013                2.42   \n",
       "1        2064.236       49.600000                235.848                0.99   \n",
       "2          1390.3       52.200000                325.721                2.42   \n",
       "3        1429.813       49.200000                280.033                6.15   \n",
       "4           926.0       44.500000                238.339                2.42   \n",
       "5         2470.58       38.000000                241.219                2.42   \n",
       "6        2014.306       35.592857                268.024                2.42   \n",
       "7        3597.633        6.000000                232.347                2.42   \n",
       "8        1548.675       67.100000                382.474                2.42   \n",
       "9         752.788       38.600000                272.509                2.42   \n",
       "10       1998.926       35.300000                336.717                2.42   \n",
       "11       1561.767       10.100000                 331.43                1.91   \n",
       "12       3601.006       28.200000                 303.74                2.42   \n",
       "13       3364.926       23.800000                244.661                 7.2   \n",
       "14       6222.554       35.592857                182.219                2.42   \n",
       "15        4227.63       12.000000                298.245                4.97   \n",
       "16       1703.102       43.700000                269.048                2.42   \n",
       "\n",
       "   female_smokers  male_smokers  life_expectancy human_development_index  \n",
       "0             0.6         10.80            54.69                   0.539  \n",
       "1             0.6         12.30            61.77                   0.545  \n",
       "2             8.8         41.30             54.7                   0.452  \n",
       "3             0.9         14.20            61.04                   0.515  \n",
       "4             0.1         15.40            62.42                   0.394  \n",
       "5             0.4         16.60            67.94                   0.512  \n",
       "6             1.6         23.00            59.31                   0.434  \n",
       "7             1.6         19.25            64.92                   0.546  \n",
       "8             1.6         19.25            58.32                    0.48  \n",
       "9             1.5         18.10             64.1                    0.48  \n",
       "10            1.6         19.25             61.6                   0.477  \n",
       "11            0.7         31.20            62.05                   0.496  \n",
       "12            1.6         19.25            57.78                   0.538  \n",
       "13            1.6         19.25            59.29                   0.563  \n",
       "14            2.1         16.50            72.98                   0.665  \n",
       "15            0.3          7.70            64.07                   0.611  \n",
       "16            1.6         23.90            61.58                   0.452  \n",
       "\n",
       "[17 rows x 21 columns]"
      ]
     },
     "execution_count": 39,
     "metadata": {},
     "output_type": "execute_result"
    }
   ],
   "source": [
    "male_smokers = replace_empty_data('male_smokers')\n",
    "new_wa['male_smokers'] = male_smokers\n",
    "new_wa\n",
    "\n",
    "#hamoye"
   ]
  },
  {
   "cell_type": "code",
   "execution_count": 40,
   "id": "64f52c1b",
   "metadata": {},
   "outputs": [],
   "source": [
    "#exporting to csv format\n",
    "new_wa.to_csv('west_africa_covid_data.csv')"
   ]
  },
  {
   "cell_type": "code",
   "execution_count": null,
   "id": "d26b9ea2",
   "metadata": {},
   "outputs": [],
   "source": []
  },
  {
   "cell_type": "code",
   "execution_count": 41,
   "id": "72fcde3a",
   "metadata": {},
   "outputs": [],
   "source": [
    "project = ['1. what is the chance of survival in each african country',\n",
    "'2. the worst hit african countries',\n",
    "'    i. by death rate.',\n",
    "'    ii. by infection rate.',\n",
    "'3. survival rate of smokers in each country.',\n",
    "'4  what is the impact of population density on each country',\n",
    "'5. what is the impact on the poorest countries',\n",
    "'6. what impact did the coronavirus have on the GDP of each country']"
   ]
  },
  {
   "cell_type": "code",
   "execution_count": null,
   "id": "9d6592dd",
   "metadata": {},
   "outputs": [],
   "source": []
  },
  {
   "cell_type": "code",
   "execution_count": 42,
   "id": "e245a5ff",
   "metadata": {},
   "outputs": [],
   "source": [
    "print_file = open(\"project.txt\", \"a\")\n",
    "for n in project:\n",
    "    print_file.write(f\"{n}\\n\")"
   ]
  },
  {
   "cell_type": "code",
   "execution_count": 43,
   "id": "1724016f",
   "metadata": {},
   "outputs": [],
   "source": [
    "# https://www.kaggle.com/datasets/deepshah16/covid19-dataset"
   ]
  }
 ],
 "metadata": {
  "kernelspec": {
   "display_name": "Python 3 (ipykernel)",
   "language": "python",
   "name": "python3"
  },
  "language_info": {
   "codemirror_mode": {
    "name": "ipython",
    "version": 3
   },
   "file_extension": ".py",
   "mimetype": "text/x-python",
   "name": "python",
   "nbconvert_exporter": "python",
   "pygments_lexer": "ipython3",
   "version": "3.9.13"
  }
 },
 "nbformat": 4,
 "nbformat_minor": 5
}
